{
  "nbformat": 4,
  "nbformat_minor": 0,
  "metadata": {
    "colab": {
      "name": "Копия блокнота \"PracticalWork11.ipynb\"",
      "provenance": [],
      "authorship_tag": "ABX9TyNQckbnl/CRxFsbJF5PzES2",
      "include_colab_link": true
    },
    "kernelspec": {
      "name": "python3",
      "display_name": "Python 3"
    },
    "language_info": {
      "name": "python"
    }
  },
  "cells": [
    {
      "cell_type": "markdown",
      "metadata": {
        "id": "view-in-github",
        "colab_type": "text"
      },
      "source": [
        "<a href=\"https://colab.research.google.com/github/KodokuOdius/Project_1sem_DOVGAN/blob/main/%D0%9A%D0%BE%D0%BF%D0%B8%D1%8F_%D0%B1%D0%BB%D0%BE%D0%BA%D0%BD%D0%BE%D1%82%D0%B0_%22PracticalWork11_ipynb%22.ipynb\" target=\"_parent\"><img src=\"https://colab.research.google.com/assets/colab-badge.svg\" alt=\"Open In Colab\"/></a>"
      ]
    },
    {
      "cell_type": "markdown",
      "source": [
        "# PracticalWork 3"
      ],
      "metadata": {
        "id": "nPqodqaqCMjQ"
      }
    },
    {
      "cell_type": "code",
      "source": [
        "print(\"Условие: (Вариант 7)\")\n",
        "print(\"Даны три целых числа: A, B, C.\\n\" +\n",
        "    \"Проверить истинность высказывания:\\n\" +\n",
        "    \"«Число B находится между числами A и C»\")\n",
        "while True:\n",
        "    try:\n",
        "        a = float(input(\"Введите A: \"))\n",
        "        b = float(input(\"Введите B: \"))\n",
        "        c = float(input(\"Введите C: \"))\n",
        "\n",
        "        if a < b < c or a > b > c:\n",
        "            print(\"Высказывание верно\")\n",
        "            print(f\"{a} - {b} - {c}\")\n",
        "            break\n",
        "\n",
        "        else:\n",
        "            print(\"Высказывание ложно\")\n",
        "            print(f\"{a} - {b} - {c}\")\n",
        "            break\n",
        "\n",
        "    except ValueError:\n",
        "        print(\"Некорректные данные\")"
      ],
      "metadata": {
        "colab": {
          "base_uri": "https://localhost:8080/"
        },
        "id": "NYX-THwjBqpy",
        "outputId": "c2a92d3d-4c76-405d-c71f-9b1ce1ffd9cc"
      },
      "execution_count": null,
      "outputs": [
        {
          "output_type": "stream",
          "name": "stdout",
          "text": [
            "Условие: (Вариант 7)\n",
            "Даны три целых числа: A, B, C.\n",
            "Проверить истинность высказывания:\n",
            "«Число B находится между числами A и C»\n",
            "Введите A: 5\n",
            "Введите B: q\n",
            "Некорректные данные\n",
            "Введите A: 5\n",
            "Введите B: 5\n",
            "Введите C: 5\n",
            "Высказывание ложно\n",
            "5.0 - 5.0 - 5.0\n"
          ]
        }
      ]
    },
    {
      "cell_type": "markdown",
      "source": [
        "# PracticalWork 4"
      ],
      "metadata": {
        "id": "yXtZCGBGCTwo"
      }
    },
    {
      "cell_type": "code",
      "source": [
        " print(\"Условие:\")\n",
        "print(\"Даны два целых числа A и B (A < B).\\n\" +\n",
        "    \"Найти сумму всех целых чисел от A до B включительно\")\n",
        "while True:\n",
        "    try:\n",
        "        a = int(input(\"Введите A: \"))\n",
        "        b = int(input(\"Введите B: \"))\n",
        "\n",
        "        if a >= b:\n",
        "            print(\"Не подходит условию (A < B)\")\n",
        "        else:\n",
        "            sum = 0\n",
        "            temp = a\n",
        "            while temp <= b:\n",
        "                sum += temp\n",
        "                temp += 1\n",
        "            print(f\"Сумма всех цулых чисел от {a} до {b} = {sum}\")\n",
        "            break\n",
        "\n",
        "    except ValueError:\n",
        "        print(\"Некорректные данные\")"
      ],
      "metadata": {
        "colab": {
          "base_uri": "https://localhost:8080/"
        },
        "id": "oiB4ACeECWcT",
        "outputId": "0229044c-8624-424c-a3ac-96a33b7b283e"
      },
      "execution_count": null,
      "outputs": [
        {
          "output_type": "stream",
          "name": "stdout",
          "text": [
            "Условие:\n",
            "Даны два целых числа A и B (A < B).\n",
            "Найти сумму всех целых чисел от A до B включительно\n",
            "Введите A: 5\n",
            "Введите B: q\n",
            "Некорректные данные\n",
            "Введите A: 4\n",
            "Введите B: 5\n",
            "Сумма всех цулых чисел от 4 до 5 = 9\n"
          ]
        }
      ]
    },
    {
      "cell_type": "markdown",
      "source": [
        "# PracricalWork 5"
      ],
      "metadata": {
        "id": "wWw3Epm7DDva"
      }
    },
    {
      "cell_type": "code",
      "source": [
        "def ex1(count, symbol):\n",
        "    try:\n",
        "        if count == \"\":\n",
        "            count = 1\n",
        "        if symbol == \"\":\n",
        "            symbol = \"#\"\n",
        "        print(f\"Ответ: {symbol*int(count)}\\n\")\n",
        "        return True\n",
        "    except ValueError:\n",
        "        return print(\"Некорректные данные\\n\")\n",
        "\n",
        "\n",
        "while True:\n",
        "    print(\"Вариант 6\\n\" +\n",
        "        \"1. Составить функцию, которая выведет на экран строку,\\n\" +\n",
        "        \"содержащую задаваемое с клавиатуры число символов.\\n\")\n",
        "\n",
        "    n = input(\"Введите количество символов (по умолчанию 1): \")\n",
        "    char = input(\"Введите символ (по умолчанию - #): \")\n",
        "    if ex1(count=n, symbol=char) is True:\n",
        "        break"
      ],
      "metadata": {
        "colab": {
          "base_uri": "https://localhost:8080/"
        },
        "id": "JNbiUR3rDIAT",
        "outputId": "88df3756-90b1-42ed-8770-a385bff396fe"
      },
      "execution_count": null,
      "outputs": [
        {
          "output_type": "stream",
          "name": "stdout",
          "text": [
            "Вариант 6\n",
            "1. Составить функцию, которая выведет на экран строку,\n",
            "содержащую задаваемое с клавиатуры число символов.\n",
            "\n",
            "Введите количество символов (по умолчанию 1): q\n",
            "Введите символ (по умолчанию - #): w\n",
            "Некорректные данные\n",
            "\n",
            "Вариант 6\n",
            "1. Составить функцию, которая выведет на экран строку,\n",
            "содержащую задаваемое с клавиатуры число символов.\n",
            "\n",
            "Введите количество символов (по умолчанию 1): 123\n",
            "Введите символ (по умолчанию - #): $\n",
            "Ответ: $$$$$$$$$$$$$$$$$$$$$$$$$$$$$$$$$$$$$$$$$$$$$$$$$$$$$$$$$$$$$$$$$$$$$$$$$$$$$$$$$$$$$$$$$$$$$$$$$$$$$$$$$$$$$$$$$$$$$$$$$$$\n",
            "\n"
          ]
        }
      ]
    }
  ]
}